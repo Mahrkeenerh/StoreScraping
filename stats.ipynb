{
 "cells": [
  {
   "cell_type": "code",
   "execution_count": 1,
   "metadata": {},
   "outputs": [
    {
     "name": "stderr",
     "output_type": "stream",
     "text": [
      "/home/xbuban1/.venv/lib/python3.11/site-packages/tqdm/auto.py:21: TqdmWarning: IProgress not found. Please update jupyter and ipywidgets. See https://ipywidgets.readthedocs.io/en/stable/user_install.html\n",
      "  from .autonotebook import tqdm as notebook_tqdm\n"
     ]
    }
   ],
   "source": [
    "import json\n",
    "import os\n",
    "from tqdm import tqdm\n",
    "\n",
    "import torchvision\n",
    "import transformers"
   ]
  },
  {
   "cell_type": "code",
   "execution_count": 2,
   "metadata": {},
   "outputs": [],
   "source": [
    "tokenizer = transformers.LlamaTokenizerFast.from_pretrained(\n",
    "    'mistralai/Mixtral-8x7B-v0.1'\n",
    ")"
   ]
  },
  {
   "cell_type": "code",
   "execution_count": 3,
   "metadata": {},
   "outputs": [],
   "source": [
    "def load_datafile(root, data_name, images_subdir):\n",
    "    image_paths = []\n",
    "    descriptions = []\n",
    "\n",
    "    data_json = json.load(open(os.path.join(root, data_name), \"r\", encoding=\"utf-8\"))\n",
    "    dataset_raw = {\n",
    "        app[\"appId\"]: {\"image_paths\": [], \"description\": app[\"description\"]}\n",
    "        for app in data_json\n",
    "    }\n",
    "\n",
    "    # Add image paths\n",
    "    for image in os.listdir(os.path.join(root, images_subdir)):\n",
    "        app_id = \"_\".join(image.split(\"_\")[:-1])\n",
    "        if app_id in dataset_raw:\n",
    "            dataset_raw[app_id][\"image_paths\"].append(os.path.join(root, images_subdir, image))\n",
    "\n",
    "    # Extract image paths and descriptions into separate lists\n",
    "    for app_id, app in dataset_raw.items():\n",
    "        if len(app[\"image_paths\"]) > 0:\n",
    "            image_paths.append(app[\"image_paths\"])\n",
    "            descriptions.append(app[\"description\"])\n",
    "\n",
    "    return image_paths, descriptions\n",
    "\n",
    "\n",
    "def print_description_stats(description_lengths):\n",
    "    print(f\"Max description length: {max(description_lengths):,}\")\n",
    "    print(f\"Min description length: {min(description_lengths)}\")\n",
    "    print(f\"Mean description length: {sum(description_lengths) / len(description_lengths):.2f}\")\n",
    "    print(f\"25th percentile description length: {sorted(description_lengths)[int(len(description_lengths) * 0.25)]}\")\n",
    "    print(f\"50th percentile description length: {sorted(description_lengths)[int(len(description_lengths) * 0.5)]}\")\n",
    "    print(f\"75th percentile description length: {sorted(description_lengths)[int(len(description_lengths) * 0.75)]}\")\n",
    "    print(f\"90th percentile description length: {sorted(description_lengths)[int(len(description_lengths) * 0.9)]}\")\n",
    "\n",
    "\n",
    "def print_image_stats(image_paths):\n",
    "    print(f\"Number of images: {sum(len(paths) for paths in image_paths):,}\")\n",
    "    print(f\"Average number of images per app: {sum(len(paths) for paths in image_paths) / len(image_paths):.02f}\")\n",
    "    print(f\"25th percentile number of images per app: {sorted([len(paths) for paths in image_paths])[int(len(image_paths) * 0.25)]}\")\n",
    "    print(f\"50th percentile number of images per app: {sorted([len(paths) for paths in image_paths])[int(len(image_paths) * 0.5)]}\")\n",
    "    print(f\"75th percentile number of images per app: {sorted([len(paths) for paths in image_paths])[int(len(image_paths) * 0.75)]}\")\n",
    "    print(f\"90th percentile number of images per app: {sorted([len(paths) for paths in image_paths])[int(len(image_paths) * 0.9)]}\")\n",
    "\n",
    "    print(\"(25, 50, 75)th percentiles and mean resolution are shown below\")\n",
    "\n",
    "\n",
    "def print_resolution_stats(image_paths):\n",
    "    x_resolutions = []\n",
    "    y_resolutions = []\n",
    "\n",
    "    bar = tqdm(image_paths, desc=\"Processing images\")\n",
    "    for i, paths in enumerate(bar):\n",
    "        for path in paths:\n",
    "            image = torchvision.io.read_image(\n",
    "                path,\n",
    "                torchvision.io.ImageReadMode.RGB\n",
    "            )\n",
    "            x_resolutions.append(image.shape[2])\n",
    "            y_resolutions.append(image.shape[1])\n",
    "\n",
    "        x_resolutions = sorted(x_resolutions)\n",
    "        y_resolutions = sorted(y_resolutions)\n",
    "\n",
    "        bar.set_description(f\"X: {x_resolutions[int(len(x_resolutions) * 0.25)], x_resolutions[int(len(x_resolutions) * 0.5)], x_resolutions[int(len(x_resolutions) * 0.75)]} {sum(x_resolutions) / len(x_resolutions):.00f} | Y: {y_resolutions[int(len(y_resolutions) * 0.25)], y_resolutions[int(len(y_resolutions) * 0.5)], y_resolutions[int(len(y_resolutions) * 0.75)]} {sum(y_resolutions) / len(y_resolutions):.00f}\")\n",
    "\n",
    "\n",
    "def get_stats(data_name):\n",
    "    print(f\"Stats for {data_name}\")\n",
    "\n",
    "    image_paths, descriptions = load_datafile(\".\", data_name, \"images\")\n",
    "\n",
    "    print(f\"Number of apps: {len(image_paths):,}\")\n",
    "    print('-' * 80)\n",
    "\n",
    "    description_lengths = [len(tokenizer.encode(desc)) for desc in descriptions]\n",
    "\n",
    "    print_description_stats(description_lengths)\n",
    "    print('-' * 80)\n",
    "    print_image_stats(image_paths)\n",
    "    print_resolution_stats(image_paths)"
   ]
  },
  {
   "cell_type": "code",
   "execution_count": 4,
   "metadata": {},
   "outputs": [
    {
     "name": "stdout",
     "output_type": "stream",
     "text": [
      "Stats for apps_filtered.json\n",
      "Number of apps: 20,874\n",
      "--------------------------------------------------------------------------------\n",
      "Max description length: 3,544\n",
      "Min description length: 7\n",
      "Mean description length: 453.42\n",
      "25th percentile description length: 248\n",
      "50th percentile description length: 409\n",
      "75th percentile description length: 614\n",
      "90th percentile description length: 839\n",
      "--------------------------------------------------------------------------------\n",
      "Number of images: 191,838\n",
      "Average number of images per app: 9.19\n",
      "25th percentile number of images per app: 6\n",
      "50th percentile number of images per app: 8\n",
      "75th percentile number of images per app: 12\n",
      "90th percentile number of images per app: 16\n",
      "(25, 50, 75)th percentiles and mean resolution are shown below\n"
     ]
    },
    {
     "name": "stderr",
     "output_type": "stream",
     "text": [
      "X: (288, 512, 512) 412 | Y: (288, 384, 512) 409: 100%|██████████| 20874/20874 [11:03<00:00, 31.48it/s]\n"
     ]
    }
   ],
   "source": [
    "get_stats(\"apps_filtered.json\")"
   ]
  },
  {
   "cell_type": "code",
   "execution_count": 5,
   "metadata": {},
   "outputs": [
    {
     "name": "stdout",
     "output_type": "stream",
     "text": [
      "Stats for apps.json\n",
      "Number of apps: 61,270\n",
      "--------------------------------------------------------------------------------\n",
      "Max description length: 4,386\n",
      "Min description length: 2\n",
      "Mean description length: 376.01\n",
      "25th percentile description length: 156\n",
      "50th percentile description length: 320\n",
      "75th percentile description length: 540\n",
      "90th percentile description length: 779\n",
      "--------------------------------------------------------------------------------\n",
      "Number of images: 505,763\n",
      "Average number of images per app: 8.25\n",
      "25th percentile number of images per app: 5\n",
      "50th percentile number of images per app: 7\n",
      "75th percentile number of images per app: 10\n",
      "90th percentile number of images per app: 15\n",
      "(25, 50, 75)th percentiles and mean resolution are shown below\n"
     ]
    },
    {
     "name": "stderr",
     "output_type": "stream",
     "text": [
      "X: (288, 384, 512) 403 | Y: (288, 512, 512) 416: 100%|██████████| 61270/61270 [43:27<00:00, 23.50it/s]  \n"
     ]
    }
   ],
   "source": [
    "get_stats(\"apps.json\")"
   ]
  }
 ],
 "metadata": {
  "kernelspec": {
   "display_name": ".venv",
   "language": "python",
   "name": "python3"
  },
  "language_info": {
   "codemirror_mode": {
    "name": "ipython",
    "version": 3
   },
   "file_extension": ".py",
   "mimetype": "text/x-python",
   "name": "python",
   "nbconvert_exporter": "python",
   "pygments_lexer": "ipython3",
   "version": "3.11.2"
  }
 },
 "nbformat": 4,
 "nbformat_minor": 2
}
